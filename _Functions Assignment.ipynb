{
 "cells": [
  {
   "cell_type": "markdown",
   "id": "145bd9b8-6f7a-4f1a-a404-98fa2c9ff429",
   "metadata": {},
   "source": [
    "Q1. Which keyword is used to create a function? Create a function to return a list of odd numbers in the\n",
    "range of 1 to 25."
   ]
  },
  {
   "cell_type": "code",
   "execution_count": 1,
   "id": "bd096f8a-521c-41d3-b372-11b27666a41b",
   "metadata": {},
   "outputs": [
    {
     "name": "stdout",
     "output_type": "stream",
     "text": [
      "[1, 3, 5, 7, 9, 11, 13, 15, 17, 19, 21, 23, 25]\n"
     ]
    }
   ],
   "source": [
    "#The keyword used to create a function in Python is \"def\n",
    "def odd_numbers():\n",
    "    odd_nums = []\n",
    "    for num in range(1, 26):\n",
    "        if num % 2 != 0:\n",
    "            odd_nums.append(num)\n",
    "    return odd_nums\n",
    "\n",
    "print(odd_numbers())"
   ]
  },
  {
   "cell_type": "markdown",
   "id": "5dbc58f1-f959-484f-aadd-66f4c527925a",
   "metadata": {},
   "source": [
    "Q2. Why *args and **kwargs is used in some functions? Create a function each for *args and **kwargs to\n",
    "demonstrate their use."
   ]
  },
  {
   "cell_type": "raw",
   "id": "d6743dea-0415-48ec-9e0d-f1674fb78962",
   "metadata": {},
   "source": [
    "*args and **kwargs are used in Python functions to accept a variable number of arguments. *args is used to pass a variable-length argument list to the function, while **kwargs is used to pass a variable-length keyword argument dictionary to the function."
   ]
  },
  {
   "cell_type": "code",
   "execution_count": 1,
   "id": "cde50ed2-7284-494d-9f71-01ba3c189bc5",
   "metadata": {},
   "outputs": [
    {
     "name": "stdout",
     "output_type": "stream",
     "text": [
      "Hello\n",
      "World\n",
      "!\n"
     ]
    }
   ],
   "source": [
    "def print_args(*args):\n",
    "    for arg in args:\n",
    "        print(arg)\n",
    "\n",
    "print_args('Hello', 'World', '!')\n"
   ]
  },
  {
   "cell_type": "code",
   "execution_count": 2,
   "id": "1107b74d-9694-4569-981a-11d50bbe085d",
   "metadata": {},
   "outputs": [
    {
     "name": "stdout",
     "output_type": "stream",
     "text": [
      "name: John\n",
      "age: 30\n",
      "city: New York\n"
     ]
    }
   ],
   "source": [
    "def print_kwargs(**kwargs):\n",
    "    for key, value in kwargs.items():\n",
    "        print(f'{key}: {value}')\n",
    "\n",
    "print_kwargs(name='John', age=30, city='New York')"
   ]
  },
  {
   "cell_type": "markdown",
   "id": "1fc35a3e-1832-494d-bccb-edc552fd0340",
   "metadata": {},
   "source": [
    "Q3. What is an iterator in python? Name the method used to initialise the iterator object and the method\n",
    "used for iteration. Use these methods to print the first five elements of the given list [2, 4, 6, 8, 10, 12, 14, 16,\n",
    "18, 20]."
   ]
  },
  {
   "cell_type": "raw",
   "id": "a51b9f8e-bf0f-40f4-b32a-53bf99ea72fe",
   "metadata": {},
   "source": [
    "An iterator in Python is an object that can be iterated upon, meaning that you can traverse through all the values. To initialize an iterator object, we use the iter() method. To iterate through an iterator, we use the next() method."
   ]
  },
  {
   "cell_type": "code",
   "execution_count": 1,
   "id": "9ec7e7dd-779a-4f01-a28e-03928e86c8b5",
   "metadata": {},
   "outputs": [
    {
     "name": "stdout",
     "output_type": "stream",
     "text": [
      "2\n",
      "4\n",
      "6\n",
      "8\n",
      "10\n"
     ]
    }
   ],
   "source": [
    "my_list = [2, 4, 6, 8, 10, 12, 14, 16, 18, 20]\n",
    "my_iterator = iter(my_list)\n",
    "\n",
    "for i in range(5):\n",
    "    print(next(my_iterator))"
   ]
  },
  {
   "cell_type": "markdown",
   "id": "a9acaa4d-35ea-49cc-adfc-e90a12761152",
   "metadata": {},
   "source": [
    "Q4. What is a generator function in python? Why yield keyword is used? Give an example of a generator\n",
    "function."
   ]
  },
  {
   "cell_type": "raw",
   "id": "ac3985f6-466c-4ec0-b43c-692a14158356",
   "metadata": {},
   "source": [
    "A generator function in Python is a special type of function that generates an iterable sequence of values on-the-fly, instead of returning a single value. The yield keyword is used in a generator function to generate a value, which can be iterated through using a for loop or the next() function.\n",
    "\n",
    "Here's an example of a generator function that generates a sequence of numbers from 1 to n:"
   ]
  },
  {
   "cell_type": "code",
   "execution_count": 2,
   "id": "3f8429b4-942e-42a7-b4c3-88ce142ac15b",
   "metadata": {},
   "outputs": [
    {
     "name": "stdout",
     "output_type": "stream",
     "text": [
      "1\n",
      "2\n",
      "3\n",
      "4\n",
      "5\n"
     ]
    }
   ],
   "source": [
    "def generate_numbers(n):\n",
    "    for i in range(1, n+1):\n",
    "        yield i\n",
    "\n",
    "numbers = generate_numbers(5)\n",
    "\n",
    "for num in numbers:\n",
    "    print(num)"
   ]
  },
  {
   "cell_type": "markdown",
   "id": "ee642de7-a581-48c5-8660-b82784a1fcb4",
   "metadata": {},
   "source": [
    "Q5. Create a generator function for prime numbers less than 1000. Use the next() method to print the\n",
    "first 20 prime numbers."
   ]
  },
  {
   "cell_type": "raw",
   "id": "fe6d8ade-56e7-40cf-b538-7111d32f2d78",
   "metadata": {},
   "source": [
    " Here's a generator function that generates prime numbers less than 1000 using the Sieve of Eratosthenes algorithm:"
   ]
  },
  {
   "cell_type": "code",
   "execution_count": 3,
   "id": "dfea0c69-89c4-464c-849c-37a89633e8a8",
   "metadata": {},
   "outputs": [
    {
     "name": "stdout",
     "output_type": "stream",
     "text": [
      "2\n",
      "3\n",
      "5\n",
      "7\n",
      "11\n",
      "13\n",
      "17\n",
      "19\n",
      "23\n",
      "29\n",
      "31\n",
      "37\n",
      "41\n",
      "43\n",
      "47\n",
      "53\n",
      "59\n",
      "61\n",
      "67\n",
      "71\n"
     ]
    }
   ],
   "source": [
    "def generate_primes():\n",
    "    primes = [True] * 1000\n",
    "    primes[0] = primes[1] = False\n",
    "    for i in range(2, int(1000 ** 0.5) + 1):\n",
    "        if primes[i]:\n",
    "            for j in range(i**2, 1000, i):\n",
    "                primes[j] = False\n",
    "    for i in range(2, 1000):\n",
    "        if primes[i]:\n",
    "            yield i\n",
    "\n",
    "primes = generate_primes()\n",
    "\n",
    "for i in range(20):\n",
    "    print(next(primes))"
   ]
  },
  {
   "cell_type": "code",
   "execution_count": null,
   "id": "d5cf7398-626c-401d-a27d-3aa7cbc4e4f5",
   "metadata": {},
   "outputs": [],
   "source": []
  }
 ],
 "metadata": {
  "kernelspec": {
   "display_name": "Python 3 (ipykernel)",
   "language": "python",
   "name": "python3"
  },
  "language_info": {
   "codemirror_mode": {
    "name": "ipython",
    "version": 3
   },
   "file_extension": ".py",
   "mimetype": "text/x-python",
   "name": "python",
   "nbconvert_exporter": "python",
   "pygments_lexer": "ipython3",
   "version": "3.10.8"
  }
 },
 "nbformat": 4,
 "nbformat_minor": 5
}
