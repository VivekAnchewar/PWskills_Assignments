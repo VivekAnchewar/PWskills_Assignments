{
 "cells": [
  {
   "cell_type": "markdown",
   "id": "f722c008-bb26-48e0-a3cb-9b1a4720a370",
   "metadata": {},
   "source": [
    "#Q1. What are the characteristics of the tuples? Is tuple immutable?"
   ]
  },
  {
   "cell_type": "markdown",
   "id": "0bf3bf63-384e-4eb8-9cfb-9e413618f928",
   "metadata": {},
   "source": [
    "Yes, Tuple is Immutable \n",
    "\n",
    "The key characteristics of tuples include:\n",
    "\n",
    "Ordered: Tuples maintain the order of the elements as they were defined.\n",
    "Immutable: Tuples cannot be modified once they are created, which means that you cannot add, remove or update individual elements of a tuple.\n",
    "Heterogeneous: Tuples can store elements of different data types, such as integers, floats, strings, and other data structures.\n",
    "Indexed: Elements in a tuple can be accessed using their index positions, starting from 0."
   ]
  },
  {
   "cell_type": "markdown",
   "id": "7289f62d-6209-4133-8ede-1d6a71b97341",
   "metadata": {},
   "source": [
    "#Q2. What are the two tuple methods in python? Give an example of each method. Give a reason why\n",
    "tuples have only two in-built methods as compared to Lists."
   ]
  },
  {
   "cell_type": "markdown",
   "id": "c27e2fa9-cd5d-455b-a6bd-6e82a3dcfe82",
   "metadata": {},
   "source": [
    "In Python, there are two built-in methods for tuples:\n",
    "count(): This method returns the number of times a specified value appears in the tuple.\n",
    "index(): This method returns the index of the first occurrence of a specified value in the tuple.\n",
    "The reason why tuples have only two built-in methods as compared to lists is that tuples are immutablem"
   ]
  },
  {
   "cell_type": "code",
   "execution_count": 2,
   "id": "64814c57-17a7-49c8-b066-27073551000f",
   "metadata": {},
   "outputs": [
    {
     "name": "stdout",
     "output_type": "stream",
     "text": [
      "3\n"
     ]
    }
   ],
   "source": [
    "my_tuple = (1, 2, 3, 4, 2, 5, 2)\n",
    "print(my_tuple.count(2))  \n"
   ]
  },
  {
   "cell_type": "code",
   "execution_count": 4,
   "id": "c91c3dad-3275-472d-bda2-88f3c63f408a",
   "metadata": {},
   "outputs": [
    {
     "name": "stdout",
     "output_type": "stream",
     "text": [
      "1\n"
     ]
    }
   ],
   "source": [
    "my_tuple = ('apple', 'banana', 'orange', 'banana')\n",
    "print(my_tuple.index('banana'))  "
   ]
  },
  {
   "cell_type": "markdown",
   "id": "2643ede8-059d-47d6-a507-c1f94733b744",
   "metadata": {},
   "source": [
    "Q3. Which collection datatypes in python do not allow duplicate items? Write a code using a set to remove\n",
    "duplicates from the given list.\n",
    "List = [1, 1, 1, 2, 1, 3, 1, 4, 2, 1, 2, 2, 2, 3, 2, 4, 3, 1, 3, 2, 3, 3, 3, 4, 4, 1, 4, 2, 4, 3, 4, 4]"
   ]
  },
  {
   "cell_type": "code",
   "execution_count": 6,
   "id": "441fa603-fad5-436f-a2cc-8b0ca8ec107d",
   "metadata": {},
   "outputs": [
    {
     "name": "stdout",
     "output_type": "stream",
     "text": [
      "[1, 2, 3, 4]\n"
     ]
    }
   ],
   "source": [
    "my_list = [1, 1, 1, 2, 1, 3, 1, 4, 2, 1, 2, 2, 2, 3, 2, 4, 3, 1, 3, 2, 3, 3, 3, 4, 4, 1, 4, 2, 4, 3, 4, 4]\n",
    "unique_items = set(my_list)\n",
    "print(list(unique_items))  \n"
   ]
  },
  {
   "cell_type": "raw",
   "id": "3ad65934-e460-4d0b-82da-af64606199b8",
   "metadata": {},
   "source": [
    "The set datatype in Python does not allow duplicate items. When you create a set from a list, it automatically removes any duplicate items.\n"
   ]
  },
  {
   "cell_type": "markdown",
   "id": "bdedba92-b15e-41c9-9a47-90e52a5a8b61",
   "metadata": {},
   "source": [
    "Q4. Explain the difference between the union() and update() methods for a set. Give an example of\n",
    "each method."
   ]
  },
  {
   "cell_type": "raw",
   "id": "3da4f53b-6023-4257-8e11-2c377d94a686",
   "metadata": {},
   "source": [
    "the main difference between union() and update() is that union() returns a new set without modifying the original sets, while update() modifies the original set by adding elements from another set to it."
   ]
  },
  {
   "cell_type": "code",
   "execution_count": 11,
   "id": "b89cf126-e8d9-4889-a3ee-f393bf25d0fe",
   "metadata": {},
   "outputs": [
    {
     "name": "stdout",
     "output_type": "stream",
     "text": [
      "{1, 2, 3, 4, 5}\n",
      "{1, 2, 3}\n",
      "{3, 4, 5}\n"
     ]
    }
   ],
   "source": [
    "#Union\n",
    "set1 = {1, 2, 3}\n",
    "set2 = {3, 4, 5}\n",
    "new_set = set1.union(set2)\n",
    "print(new_set) \n",
    "print(set1)      \n",
    "print(set2) "
   ]
  },
  {
   "cell_type": "code",
   "execution_count": 10,
   "id": "51ecd438-813d-41bd-90c4-a2c788923547",
   "metadata": {},
   "outputs": [
    {
     "name": "stdout",
     "output_type": "stream",
     "text": [
      "{1, 2, 3, 4, 5}\n",
      "{3, 4, 5}\n"
     ]
    }
   ],
   "source": [
    "#update\n",
    "set1 = {1, 2, 3}\n",
    "set2 = {3, 4, 5}\n",
    "set1.update(set2)\n",
    "print(set1)   \n",
    "print(set2)  "
   ]
  },
  {
   "cell_type": "markdown",
   "id": "e512ff98-0346-4c72-ba53-24ead370e06c",
   "metadata": {},
   "source": [
    "Q5. What is a dictionary? Give an example. Also, state whether a dictionary is ordered or unordered."
   ]
  },
  {
   "cell_type": "raw",
   "id": "a0bc446d-7fc8-4209-b5a4-c4725f9a16fa",
   "metadata": {},
   "source": [
    "A dictionary is a collection of key-value pairs, where each key is associated with a value.\n",
    "Dictionaries in Python are unordered, which means that the elements are not stored in any particular order.\n",
    "Here's an example of a dictionary in Python:\n"
   ]
  },
  {
   "cell_type": "code",
   "execution_count": 12,
   "id": "ca14006f-a565-458a-92fb-d60b45936372",
   "metadata": {},
   "outputs": [],
   "source": [
    "my_dict = {\"apple\": 2, \"banana\": 3, \"orange\": 1}"
   ]
  },
  {
   "cell_type": "markdown",
   "id": "35d65364-916e-4251-b66f-6a392a44bd83",
   "metadata": {},
   "source": [
    "Q6. Can we create a nested dictionary? If so, please give an example by creating a simple one-level\n",
    "nested dictionary."
   ]
  },
  {
   "cell_type": "raw",
   "id": "508da231-9b51-4cd4-b455-2e76d71531f6",
   "metadata": {},
   "source": [
    "Yes, We can Creeate a nested dictionary in Python.\n",
    "Example:\n",
    "    "
   ]
  },
  {
   "cell_type": "code",
   "execution_count": 15,
   "id": "f030c0d0-5059-4658-ac97-ed1c244299a8",
   "metadata": {},
   "outputs": [
    {
     "name": "stdout",
     "output_type": "stream",
     "text": [
      "3\n"
     ]
    }
   ],
   "source": [
    "my_dict = {\"fruit\": {\"apple\": 2, \"banana\": 3, \"orange\": 1}}\n",
    "print(my_dict[\"fruit\"][\"banana\"])   \n"
   ]
  },
  {
   "cell_type": "markdown",
   "id": "623662d6-638c-49aa-9650-5ec9f150f668",
   "metadata": {},
   "source": [
    "Q7. Using setdefault() method, create key named topics in the given dictionary and also add the value of\n",
    "the key as this list ['Python', 'Machine Learning’, 'Deep Learning']\n",
    "dict1 = {'language' : 'Python', 'course': 'Data Science Masters'}"
   ]
  },
  {
   "cell_type": "code",
   "execution_count": 16,
   "id": "014a9893-9edb-4721-99dc-8bfc9b1fa0f7",
   "metadata": {},
   "outputs": [
    {
     "name": "stdout",
     "output_type": "stream",
     "text": [
      "{'language': 'Python', 'course': 'Data Science Masters', 'topics': ['Python', 'Machine Learning', 'Deep Learning']}\n"
     ]
    }
   ],
   "source": [
    "dict1 = {'language': 'Python', 'course': 'Data Science Masters'}\n",
    "\n",
    "dict1.setdefault('topics', ['Python', 'Machine Learning', 'Deep Learning'])\n",
    "\n",
    "print(dict1)"
   ]
  },
  {
   "cell_type": "markdown",
   "id": "60b783ed-ed8f-4e97-8d41-a9aa3b75ee20",
   "metadata": {},
   "source": [
    "Q8. What are the three view objects in dictionaries? Use the three in-built methods in python to display\n",
    "these three view objects for the given dictionary.\n",
    "dict1 = {'Sport': 'Cricket' , 'Teams': ['India', 'Australia', 'England', 'South Africa', 'Sri Lanka', 'New Zealand']}"
   ]
  },
  {
   "cell_type": "raw",
   "id": "e5f6668d-c5b2-40bf-b736-d5e2a3cd33a1",
   "metadata": {},
   "source": [
    "\n",
    "The three view objects in dictionaries are:\n",
    "\n",
    "dict_keys: This view object contains the keys of the dictionary.\n",
    "dict_values: This view object contains the values of the dictionary.\n",
    "dict_items: This view object contains the key-value pairs of the dictionary as tuples."
   ]
  },
  {
   "cell_type": "code",
   "execution_count": 17,
   "id": "894d61b4-ba18-4921-af06-6eb1091cdadc",
   "metadata": {},
   "outputs": [
    {
     "name": "stdout",
     "output_type": "stream",
     "text": [
      "dict_keys(['Sport', 'Teams'])\n",
      "dict_values(['Cricket', ['India', 'Australia', 'England', 'South Africa', 'Sri Lanka', 'New Zealand']])\n",
      "dict_items([('Sport', 'Cricket'), ('Teams', ['India', 'Australia', 'England', 'South Africa', 'Sri Lanka', 'New Zealand'])])\n"
     ]
    }
   ],
   "source": [
    "dict1 = {'Sport': 'Cricket' , 'Teams': ['India', 'Australia', 'England', 'South Africa', 'Sri Lanka', 'New Zealand']}\n",
    "\n",
    "keys_view = dict1.keys()\n",
    "values_view = dict1.values()\n",
    "items_view = dict1.items()\n",
    "\n",
    "print(keys_view)\n",
    "print(values_view)\n",
    "print(items_view)\n"
   ]
  },
  {
   "cell_type": "code",
   "execution_count": null,
   "id": "6aecde7a-4971-4143-bb6b-a4a0671621f2",
   "metadata": {},
   "outputs": [],
   "source": []
  }
 ],
 "metadata": {
  "kernelspec": {
   "display_name": "Python 3 (ipykernel)",
   "language": "python",
   "name": "python3"
  },
  "language_info": {
   "codemirror_mode": {
    "name": "ipython",
    "version": 3
   },
   "file_extension": ".py",
   "mimetype": "text/x-python",
   "name": "python",
   "nbconvert_exporter": "python",
   "pygments_lexer": "ipython3",
   "version": "3.10.8"
  }
 },
 "nbformat": 4,
 "nbformat_minor": 5
}
